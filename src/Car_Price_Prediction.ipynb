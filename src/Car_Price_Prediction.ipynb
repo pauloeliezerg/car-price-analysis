{
  "cells": [
    {
      "cell_type": "code",
      "execution_count": 23,
      "metadata": {
        "id": "OxmIlIbZjGMZ"
      },
      "outputs": [],
      "source": [
        "import kagglehub\n",
        "import pandas as pd\n",
        "import numpy as np\n",
        "\n",
        "import seaborn as sns\n",
        "import matplotlib.pyplot as plt\n",
        "\n",
        "from sklearn.model_selection import train_test_split, cross_val_score, RandomizedSearchCV\n",
        "\n",
        "from category_encoders import TargetEncoder\n",
        "from sklearn.preprocessing import StandardScaler, OneHotEncoder, LabelEncoder, MultiLabelBinarizer\n",
        "\n",
        "from sklearn.feature_selection import SelectKBest, f_regression\n",
        "\n",
        "from sklearn.linear_model import LinearRegression\n",
        "from sklearn.tree import DecisionTreeRegressor\n",
        "from sklearn.neighbors import KNeighborsRegressor\n",
        "\n",
        "from sklearn.metrics import make_scorer, mean_absolute_error, mean_squared_error, r2_score\n",
        "\n",
        "from scipy.stats import randint\n",
        "\n",
        "from sklearn.base import BaseEstimator, TransformerMixin\n",
        "from sklearn.compose import ColumnTransformer\n",
        "\n",
        "from sklearn.pipeline import Pipeline\n",
        "\n",
        "from joblib import dump"
      ]
    },
    {
      "cell_type": "code",
      "execution_count": 24,
      "metadata": {
        "colab": {
          "base_uri": "https://localhost:8080/"
        },
        "id": "vz4MEUR9jX8g",
        "outputId": "26736b3c-a5a1-43eb-d313-4d4c27abcb67"
      },
      "outputs": [],
      "source": [
        "dataset_slug = \"benjnb/cars-for-sale\"\n",
        "file_name = \"Updated_Car_Sales_Data.csv\"\n",
        "\n",
        "df = kagglehub.dataset_load(\n",
        "  kagglehub.KaggleDatasetAdapter.PANDAS,\n",
        "  dataset_slug,\n",
        "  file_name,\n",
        ")"
      ]
    },
    {
      "cell_type": "code",
      "execution_count": 25,
      "metadata": {
        "id": "pUJjWeypjb9A"
      },
      "outputs": [],
      "source": [
        "class DataCleaner(BaseEstimator, TransformerMixin):\n",
        "    def __init__(self):\n",
        "        pass\n",
        "\n",
        "    def fit(self, X, y=None):\n",
        "        return self\n",
        "\n",
        "    def transform(self, X):\n",
        "        X_cleaned = X.copy()\n",
        "\n",
        "        if 'Fuel Type' in X_cleaned.columns:\n",
        "            X_cleaned['Fuel Type'] = X_cleaned['Fuel Type'].replace('Petrol', 'Gasoline')\n",
        "\n",
        "        columns_to_drop = ['Car Make', 'Condition']\n",
        "        cols_to_drop_exist = [col for col in columns_to_drop if col in X_cleaned.columns]\n",
        "        if cols_to_drop_exist:\n",
        "            X_cleaned = X_cleaned.drop(cols_to_drop_exist, axis=1)\n",
        "\n",
        "\n",
        "        return X_cleaned"
      ]
    },
    {
      "cell_type": "code",
      "execution_count": 26,
      "metadata": {
        "id": "FNea-aSwxsUi"
      },
      "outputs": [],
      "source": [
        "class TargetEncodeAndScale(BaseEstimator, TransformerMixin):\n",
        "    def __init__(self, category_col, target_col):\n",
        "        self.category_col = category_col\n",
        "        self.target_col = target_col\n",
        "        self.target_encoder = TargetEncoder(cols=category_col, smoothing=0.2)\n",
        "        self.scaler = StandardScaler()\n",
        "\n",
        "    def fit(self, X, y=None):\n",
        "        X_encoded = self.target_encoder.fit_transform(X, y)\n",
        "        self.scaler.fit(X_encoded[[self.category_col]])\n",
        "        return self\n",
        "\n",
        "    def transform(self, X):\n",
        "        X_encoded = self.target_encoder.transform(X)\n",
        "        X_scaled = self.scaler.transform(X_encoded[[self.category_col]])\n",
        "        return X_scaled\n",
        "\n",
        "    def get_feature_names_out(self, input_features=None):\n",
        "        return [self.category_col]"
      ]
    },
    {
      "cell_type": "code",
      "execution_count": 27,
      "metadata": {
        "id": "Qunop5H_QmXk"
      },
      "outputs": [],
      "source": [
        "def split_features(features_string):\n",
        "    if isinstance(features_string, str):\n",
        "        return [feature.strip() for feature in features_string.split(',')]\n",
        "    return []"
      ]
    },
    {
      "cell_type": "code",
      "execution_count": 28,
      "metadata": {
        "id": "eXgPuZHqxxmd"
      },
      "outputs": [],
      "source": [
        "class MultiLabelEncoder(BaseEstimator, TransformerMixin):\n",
        "    def __init__(self):\n",
        "        self.mlb = MultiLabelBinarizer()\n",
        "\n",
        "    def fit(self, X, y=None):\n",
        "        self.mlb.fit(X)\n",
        "        return self\n",
        "\n",
        "    def transform(self, X):\n",
        "        return self.mlb.transform(X)"
      ]
    },
    {
      "cell_type": "code",
      "execution_count": 29,
      "metadata": {
        "id": "TdiUxt6bVW3m"
      },
      "outputs": [],
      "source": [
        "class Label_Encoder(BaseEstimator, TransformerMixin):\n",
        "    def __init__(self, column):\n",
        "        self.column = column\n",
        "        self.le = LabelEncoder()\n",
        "\n",
        "    def fit(self, X, y=None):\n",
        "        self.le.fit(X[self.column])\n",
        "        return self\n",
        "\n",
        "    def transform(self, X):\n",
        "        X_ = X.copy()\n",
        "        X_[self.column] = self.le.transform(X_[self.column])\n",
        "        return X_\n",
        "    def get_feature_names_out(self, input_features=None):\n",
        "        return [self.column]"
      ]
    },
    {
      "cell_type": "code",
      "execution_count": 30,
      "metadata": {
        "id": "O-vTBE91mf5G"
      },
      "outputs": [],
      "source": [
        "def create_preprocessor():\n",
        "  target = 'Price'\n",
        "  target_encoder_col = 'Car Model'\n",
        "  numeric_cols = ['Year', 'Mileage']\n",
        "  cat_cols = ['Fuel Type', 'Color', 'Transmission']\n",
        "  multi_label_col = 'Options/Features'\n",
        "  binary_col = 'Accident'\n",
        "\n",
        "  preprocessor = ColumnTransformer(\n",
        "        transformers=[\n",
        "            ('target_encoder', TargetEncodeAndScale(target_encoder_col, target), [target_encoder_col]),\n",
        "            ('numeric', StandardScaler(), numeric_cols),\n",
        "            ('cat', OneHotEncoder(handle_unknown='ignore'), cat_cols),\n",
        "            ('multi_label', MultiLabelEncoder(), split_features([multi_label_col])),\n",
        "            ('binary', Label_Encoder(column=binary_col), [binary_col])\n",
        "        ],\n",
        "        remainder='drop',\n",
        "        verbose_feature_names_out=True\n",
        "    )\n",
        "  return preprocessor"
      ]
    },
    {
      "cell_type": "code",
      "execution_count": 31,
      "metadata": {
        "id": "ngh2MD1ASbCF"
      },
      "outputs": [],
      "source": [
        "class SelectKBestTransformer(BaseEstimator, TransformerMixin):\n",
        "    def __init__(self, score_func=f_regression, k=5):\n",
        "        self.score_func = score_func\n",
        "        self.k = k\n",
        "        self.selector = SelectKBest(score_func=score_func, k=k)\n",
        "        self.selected_features_indices_ = None\n",
        "\n",
        "    def fit(self, X, y=None):\n",
        "        if not isinstance(X, pd.DataFrame):\n",
        "             X_df = pd.DataFrame(X)\n",
        "        else:\n",
        "            X_df = X\n",
        "\n",
        "        self.selector.fit(X_df, y)\n",
        "        self.selected_features_indices_ = self.selector.get_support(indices=True)\n",
        "        return self\n",
        "\n",
        "    def transform(self, X):\n",
        "        if not isinstance(X, pd.DataFrame):\n",
        "             X_df = pd.DataFrame(X)\n",
        "        else:\n",
        "            X_df = X\n",
        "        return self.selector.transform(X_df)\n",
        "\n",
        "    def get_support(self, indices=False):\n",
        "        return self.selector.get_support(indices=indices)"
      ]
    },
    {
      "cell_type": "code",
      "execution_count": 32,
      "metadata": {
        "id": "LJL-lKujWkqV"
      },
      "outputs": [],
      "source": [
        "def split_data(df, target_column='Price', val_size=0.05, test_size=0.2, random_state=42):\n",
        "  X = df.drop(columns=[target_column], axis=1)\n",
        "  y = df[target_column]\n",
        "  X_temp, X_test, y_temp, y_test = train_test_split(X, y, test_size=val_size, random_state=random_state)\n",
        "  X_train, X_val, y_train, y_val = train_test_split(X_temp, y_temp, test_size=test_size, random_state=random_state)\n",
        "  return X_train, X_val, X_test, y_train, y_val, y_test"
      ]
    },
    {
      "cell_type": "code",
      "execution_count": 33,
      "metadata": {
        "id": "TmcxuiualTgy"
      },
      "outputs": [],
      "source": [
        "X_train, X_val, X_test, y_train, y_val, y_test = split_data(df)"
      ]
    },
    {
      "cell_type": "code",
      "execution_count": 34,
      "metadata": {
        "id": "PL173jonWqud"
      },
      "outputs": [],
      "source": [
        "data_cleaner = DataCleaner()\n",
        "preprocessor = create_preprocessor()\n",
        "feature_selector = SelectKBestTransformer()\n",
        "\n",
        "pipeline = Pipeline(steps=[\n",
        "    ('cleaning', data_cleaner),\n",
        "    ('preprocessing', preprocessor),\n",
        "    ('selecting_features', feature_selector)\n",
        "])"
      ]
    },
    {
      "cell_type": "code",
      "execution_count": 35,
      "metadata": {
        "colab": {
          "base_uri": "https://localhost:8080/",
          "height": 206
        },
        "id": "7RfnmHsMYkqD",
        "outputId": "21d9f466-9b26-4607-e07d-058eab6536c7"
      },
      "outputs": [
        {
          "data": {
            "text/html": [
              "<div>\n",
              "<style scoped>\n",
              "    .dataframe tbody tr th:only-of-type {\n",
              "        vertical-align: middle;\n",
              "    }\n",
              "\n",
              "    .dataframe tbody tr th {\n",
              "        vertical-align: top;\n",
              "    }\n",
              "\n",
              "    .dataframe thead th {\n",
              "        text-align: right;\n",
              "    }\n",
              "</style>\n",
              "<table border=\"1\" class=\"dataframe\">\n",
              "  <thead>\n",
              "    <tr style=\"text-align: right;\">\n",
              "      <th></th>\n",
              "      <th>target_encoder__Car Model</th>\n",
              "      <th>numeric__Year</th>\n",
              "      <th>numeric__Mileage</th>\n",
              "      <th>cat__Color_Orange</th>\n",
              "      <th>binary__Accident</th>\n",
              "    </tr>\n",
              "  </thead>\n",
              "  <tbody>\n",
              "    <tr>\n",
              "      <th>0</th>\n",
              "      <td>-0.419230</td>\n",
              "      <td>-0.637714</td>\n",
              "      <td>-1.104400</td>\n",
              "      <td>1.0</td>\n",
              "      <td>1.0</td>\n",
              "    </tr>\n",
              "    <tr>\n",
              "      <th>1</th>\n",
              "      <td>-0.410615</td>\n",
              "      <td>0.961221</td>\n",
              "      <td>-1.239424</td>\n",
              "      <td>0.0</td>\n",
              "      <td>1.0</td>\n",
              "    </tr>\n",
              "    <tr>\n",
              "      <th>2</th>\n",
              "      <td>-0.414303</td>\n",
              "      <td>0.694732</td>\n",
              "      <td>-1.413073</td>\n",
              "      <td>0.0</td>\n",
              "      <td>1.0</td>\n",
              "    </tr>\n",
              "    <tr>\n",
              "      <th>3</th>\n",
              "      <td>-0.406277</td>\n",
              "      <td>0.961221</td>\n",
              "      <td>-0.931310</td>\n",
              "      <td>0.0</td>\n",
              "      <td>1.0</td>\n",
              "    </tr>\n",
              "    <tr>\n",
              "      <th>4</th>\n",
              "      <td>-0.423583</td>\n",
              "      <td>-0.904203</td>\n",
              "      <td>0.428679</td>\n",
              "      <td>0.0</td>\n",
              "      <td>1.0</td>\n",
              "    </tr>\n",
              "  </tbody>\n",
              "</table>\n",
              "</div>"
            ],
            "text/plain": [
              "   target_encoder__Car Model  numeric__Year  numeric__Mileage  \\\n",
              "0                  -0.419230      -0.637714         -1.104400   \n",
              "1                  -0.410615       0.961221         -1.239424   \n",
              "2                  -0.414303       0.694732         -1.413073   \n",
              "3                  -0.406277       0.961221         -0.931310   \n",
              "4                  -0.423583      -0.904203          0.428679   \n",
              "\n",
              "   cat__Color_Orange  binary__Accident  \n",
              "0                1.0               1.0  \n",
              "1                0.0               1.0  \n",
              "2                0.0               1.0  \n",
              "3                0.0               1.0  \n",
              "4                0.0               1.0  "
            ]
          },
          "metadata": {},
          "output_type": "display_data"
        }
      ],
      "source": [
        "pipeline.fit(X_train, y_train)\n",
        "\n",
        "preprocessor = pipeline.named_steps['preprocessing']\n",
        "feature_selector = pipeline.named_steps['selecting_features']\n",
        "\n",
        "X_train_processed = pipeline.transform(X_train)\n",
        "X_val_processed = pipeline.transform(X_val)\n",
        "\n",
        "all_preprocessor_feature_names = preprocessor.get_feature_names_out()\n",
        "\n",
        "selected_feature_indices = feature_selector.get_support(indices=True)\n",
        "\n",
        "selected_feature_names = all_preprocessor_feature_names[selected_feature_indices]\n",
        "\n",
        "\n",
        "X_train_processed = pd.DataFrame(X_train_processed, columns=selected_feature_names)\n",
        "X_val_processed = pd.DataFrame(X_val_processed, columns=selected_feature_names)\n",
        "\n",
        "display(X_train_processed.head())"
      ]
    },
    {
      "cell_type": "code",
      "execution_count": 36,
      "metadata": {
        "id": "l_Wpbpc6VOjy"
      },
      "outputs": [],
      "source": [
        "models = {\n",
        "    \"Linear Regression\": LinearRegression(),\n",
        "    \"Decision Tree\": DecisionTreeRegressor(random_state=42),\n",
        "    \"KNN\": KNeighborsRegressor()\n",
        "}"
      ]
    },
    {
      "cell_type": "code",
      "execution_count": 37,
      "metadata": {
        "id": "xaeQniRtVshx"
      },
      "outputs": [],
      "source": [
        "trained_models = {}\n",
        "\n",
        "for name, model in models.items():\n",
        "    model.fit(X_train_processed, y_train)\n",
        "    trained_models[name] = model"
      ]
    },
    {
      "cell_type": "code",
      "execution_count": 38,
      "metadata": {
        "id": "gmPswy8QXoOI"
      },
      "outputs": [],
      "source": [
        "for name, model in trained_models.items():\n",
        "    y_pred = trained_models[name].predict(X_val_processed)"
      ]
    },
    {
      "cell_type": "code",
      "execution_count": 39,
      "metadata": {
        "colab": {
          "base_uri": "https://localhost:8080/",
          "height": 143
        },
        "id": "Axdw_wJiyOvl",
        "outputId": "14b45121-f945-4bf7-e4b0-db2fb31af2a0"
      },
      "outputs": [
        {
          "data": {
            "text/html": [
              "<div>\n",
              "<style scoped>\n",
              "    .dataframe tbody tr th:only-of-type {\n",
              "        vertical-align: middle;\n",
              "    }\n",
              "\n",
              "    .dataframe tbody tr th {\n",
              "        vertical-align: top;\n",
              "    }\n",
              "\n",
              "    .dataframe thead th {\n",
              "        text-align: right;\n",
              "    }\n",
              "</style>\n",
              "<table border=\"1\" class=\"dataframe\">\n",
              "  <thead>\n",
              "    <tr style=\"text-align: right;\">\n",
              "      <th></th>\n",
              "      <th>Mean MAE (CV)</th>\n",
              "      <th>Std Dev MAE (CV)</th>\n",
              "      <th>Mean MSE (CV)</th>\n",
              "      <th>Std Dev MSE (CV)</th>\n",
              "      <th>Mean RMSE (CV)</th>\n",
              "      <th>Std Dev RMSE (CV)</th>\n",
              "      <th>Mean R² (CV)</th>\n",
              "      <th>Std Dev R² (CV)</th>\n",
              "    </tr>\n",
              "  </thead>\n",
              "  <tbody>\n",
              "    <tr>\n",
              "      <th>KNN</th>\n",
              "      <td>16648.231017</td>\n",
              "      <td>258.325527</td>\n",
              "      <td>8.142053e+08</td>\n",
              "      <td>1.571368e+07</td>\n",
              "      <td>28534.282224</td>\n",
              "      <td>1.571368e+07</td>\n",
              "      <td>0.803443</td>\n",
              "      <td>0.004892</td>\n",
              "    </tr>\n",
              "    <tr>\n",
              "      <th>Linear Regression</th>\n",
              "      <td>17928.527524</td>\n",
              "      <td>429.034729</td>\n",
              "      <td>9.199147e+08</td>\n",
              "      <td>6.172741e+07</td>\n",
              "      <td>30330.094808</td>\n",
              "      <td>6.172741e+07</td>\n",
              "      <td>0.778255</td>\n",
              "      <td>0.008946</td>\n",
              "    </tr>\n",
              "    <tr>\n",
              "      <th>Decision Tree</th>\n",
              "      <td>21068.505126</td>\n",
              "      <td>234.875023</td>\n",
              "      <td>1.390427e+09</td>\n",
              "      <td>4.097190e+07</td>\n",
              "      <td>37288.432614</td>\n",
              "      <td>4.097190e+07</td>\n",
              "      <td>0.664371</td>\n",
              "      <td>0.010003</td>\n",
              "    </tr>\n",
              "  </tbody>\n",
              "</table>\n",
              "</div>"
            ],
            "text/plain": [
              "                   Mean MAE (CV)  Std Dev MAE (CV)  Mean MSE (CV)  \\\n",
              "KNN                 16648.231017        258.325527   8.142053e+08   \n",
              "Linear Regression   17928.527524        429.034729   9.199147e+08   \n",
              "Decision Tree       21068.505126        234.875023   1.390427e+09   \n",
              "\n",
              "                   Std Dev MSE (CV)  Mean RMSE (CV)  Std Dev RMSE (CV)  \\\n",
              "KNN                    1.571368e+07    28534.282224       1.571368e+07   \n",
              "Linear Regression      6.172741e+07    30330.094808       6.172741e+07   \n",
              "Decision Tree          4.097190e+07    37288.432614       4.097190e+07   \n",
              "\n",
              "                   Mean R² (CV)  Std Dev R² (CV)  \n",
              "KNN                    0.803443         0.004892  \n",
              "Linear Regression      0.778255         0.008946  \n",
              "Decision Tree          0.664371         0.010003  "
            ]
          },
          "metadata": {},
          "output_type": "display_data"
        }
      ],
      "source": [
        "scoring = {\n",
        "    'mae': make_scorer(mean_absolute_error),\n",
        "    'mse': make_scorer(mean_squared_error),\n",
        "    'rmse': make_scorer(mean_squared_error),\n",
        "    'r2': make_scorer(r2_score)\n",
        "}\n",
        "\n",
        "cv_results = {}\n",
        "\n",
        "for name, model in trained_models.items():\n",
        "    from sklearn.model_selection import cross_validate\n",
        "    cv_metrics = cross_validate(model, X_train_processed, y_train, cv=5, scoring=scoring)\n",
        "\n",
        "    cv_results[name] = {\n",
        "        \"Mean MAE (CV)\": cv_metrics['test_mae'].mean(),\n",
        "        \"Std Dev MAE (CV)\": cv_metrics['test_mae'].std(),\n",
        "        \"Mean MSE (CV)\": cv_metrics['test_mse'].mean(),\n",
        "        \"Std Dev MSE (CV)\": cv_metrics['test_mse'].std(),\n",
        "        \"Mean RMSE (CV)\": np.sqrt(cv_metrics['test_mse'].mean()),\n",
        "        \"Std Dev RMSE (CV)\": cv_metrics['test_rmse'].std(),\n",
        "        \"Mean R² (CV)\": cv_metrics['test_r2'].mean(),\n",
        "        \"Std Dev R² (CV)\": cv_metrics['test_r2'].std()\n",
        "    }\n",
        "\n",
        "cv_df = pd.DataFrame(cv_results).T\n",
        "display(cv_df.sort_values(by='Mean R² (CV)', ascending=False))"
      ]
    },
    {
      "cell_type": "code",
      "execution_count": 40,
      "metadata": {
        "colab": {
          "base_uri": "https://localhost:8080/",
          "height": 251
        },
        "id": "S6olchYz2UFz",
        "outputId": "b892641a-8fd9-42b2-8c27-f4ab2dcb0964"
      },
      "outputs": [
        {
          "name": "stdout",
          "output_type": "stream",
          "text": [
            "\n",
            "Best hyperparameters for KNN pipeline: {'regressor__n_neighbors': 19}\n",
            "Best Mean MSE from cross-validation (KNN pipeline): 735078349.9446439\n",
            "\n",
            "Best hyperparameters for Decision Tree pipeline: {'regressor__max_depth': 6, 'regressor__min_samples_leaf': 2, 'regressor__min_samples_split': 2}\n",
            "Best Mean MSE from cross-validation (Decision Tree pipeline): 715686399.5583333\n",
            "\n",
            "Comparison of Tuned Models on Validation Set:\n"
          ]
        },
        {
          "data": {
            "text/html": [
              "<div>\n",
              "<style scoped>\n",
              "    .dataframe tbody tr th:only-of-type {\n",
              "        vertical-align: middle;\n",
              "    }\n",
              "\n",
              "    .dataframe tbody tr th {\n",
              "        vertical-align: top;\n",
              "    }\n",
              "\n",
              "    .dataframe thead th {\n",
              "        text-align: right;\n",
              "    }\n",
              "</style>\n",
              "<table border=\"1\" class=\"dataframe\">\n",
              "  <thead>\n",
              "    <tr style=\"text-align: right;\">\n",
              "      <th></th>\n",
              "      <th>MAE</th>\n",
              "      <th>MSE</th>\n",
              "      <th>RMSE</th>\n",
              "      <th>R²</th>\n",
              "    </tr>\n",
              "  </thead>\n",
              "  <tbody>\n",
              "    <tr>\n",
              "      <th>Tuned Decision Tree</th>\n",
              "      <td>15285.734492</td>\n",
              "      <td>6.457508e+08</td>\n",
              "      <td>25411.626544</td>\n",
              "      <td>0.838829</td>\n",
              "    </tr>\n",
              "    <tr>\n",
              "      <th>Tuned KNN</th>\n",
              "      <td>15766.628129</td>\n",
              "      <td>7.048167e+08</td>\n",
              "      <td>26548.384563</td>\n",
              "      <td>0.824087</td>\n",
              "    </tr>\n",
              "  </tbody>\n",
              "</table>\n",
              "</div>"
            ],
            "text/plain": [
              "                              MAE           MSE          RMSE        R²\n",
              "Tuned Decision Tree  15285.734492  6.457508e+08  25411.626544  0.838829\n",
              "Tuned KNN            15766.628129  7.048167e+08  26548.384563  0.824087"
            ]
          },
          "metadata": {},
          "output_type": "display_data"
        }
      ],
      "source": [
        "pipeline_to_tune_knn = Pipeline(steps=[\n",
        "    ('cleaning', DataCleaner()),\n",
        "    ('preprocessing', create_preprocessor()),\n",
        "    ('selecting_features', SelectKBestTransformer()),\n",
        "    ('regressor', KNeighborsRegressor())\n",
        "])\n",
        "\n",
        "param_distributions_knn = {\n",
        "    'regressor__n_neighbors': randint(1, 20)\n",
        "}\n",
        "\n",
        "random_search_knn = RandomizedSearchCV(\n",
        "    pipeline_to_tune_knn,\n",
        "    param_distributions=param_distributions_knn,\n",
        "    n_iter=10,\n",
        "    cv=5,\n",
        "    scoring='neg_mean_squared_error',\n",
        "    random_state=42,\n",
        "    n_jobs=-1\n",
        ")\n",
        "\n",
        "random_search_knn.fit(X_train, y_train)\n",
        "\n",
        "best_params_knn = random_search_knn.best_params_\n",
        "best_score_knn = -random_search_knn.best_score_\n",
        "\n",
        "print(\"\\nBest hyperparameters for KNN pipeline:\", best_params_knn)\n",
        "print(\"Best Mean MSE from cross-validation (KNN pipeline):\", best_score_knn)\n",
        "\n",
        "best_pipeline_knn = random_search_knn.best_estimator_\n",
        "\n",
        "pipeline_to_tune_dt = Pipeline(steps=[\n",
        "    ('cleaning', DataCleaner()),\n",
        "    ('preprocessing', create_preprocessor()),\n",
        "    ('selecting_features', SelectKBestTransformer()),\n",
        "    ('regressor', DecisionTreeRegressor(random_state=42))\n",
        "])\n",
        "\n",
        "param_distributions_dt = {\n",
        "    'regressor__max_depth': randint(1, 20),\n",
        "    'regressor__min_samples_split': randint(2, 20),\n",
        "    'regressor__min_samples_leaf': randint(1, 20)\n",
        "}\n",
        "\n",
        "random_search_dt = RandomizedSearchCV(\n",
        "    pipeline_to_tune_dt,\n",
        "    param_distributions=param_distributions_dt,\n",
        "    n_iter=10,\n",
        "    cv=5,\n",
        "    scoring='neg_mean_squared_error',\n",
        "    random_state=42,\n",
        "    n_jobs=-1\n",
        ")\n",
        "random_search_dt.fit(X_train, y_train)\n",
        "\n",
        "best_params_dt = random_search_dt.best_params_\n",
        "best_score_dt = -random_search_dt.best_score_\n",
        "\n",
        "print(\"\\nBest hyperparameters for Decision Tree pipeline:\", best_params_dt)\n",
        "print(\"Best Mean MSE from cross-validation (Decision Tree pipeline):\", best_score_dt)\n",
        "\n",
        "best_pipeline_dt = random_search_dt.best_estimator_\n",
        "\n",
        "\n",
        "tuned_models_evaluation = {}\n",
        "\n",
        "y_pred_tuned_knn = best_pipeline_knn.predict(X_val)\n",
        "mae_tuned_knn = mean_absolute_error(y_val, y_pred_tuned_knn)\n",
        "mse_tuned_knn = mean_squared_error(y_val, y_pred_tuned_knn)\n",
        "rmse_tuned_knn = np.sqrt(mse_tuned_knn)\n",
        "r2_tuned_knn = r2_score(y_val, y_pred_tuned_knn)\n",
        "\n",
        "tuned_models_evaluation[\"Tuned KNN\"] = {\n",
        "    \"MAE\": mae_tuned_knn,\n",
        "    \"MSE\": mse_tuned_knn,\n",
        "    \"RMSE\": rmse_tuned_knn,\n",
        "    \"R²\": r2_tuned_knn\n",
        "}\n",
        "\n",
        "y_pred_tuned_dt = best_pipeline_dt.predict(X_val)\n",
        "mae_tuned_dt = mean_absolute_error(y_val, y_pred_tuned_dt)\n",
        "mse_tuned_dt = mean_squared_error(y_val, y_pred_tuned_dt)\n",
        "rmse_tuned_dt = np.sqrt(mse_tuned_dt)\n",
        "r2_tuned_dt = r2_score(y_val, y_pred_tuned_dt)\n",
        "\n",
        "tuned_models_evaluation[\"Tuned Decision Tree\"] = {\n",
        "    \"MAE\": mae_tuned_dt,\n",
        "    \"MSE\": mse_tuned_dt,\n",
        "    \"RMSE\": rmse_tuned_dt,\n",
        "    \"R²\": r2_tuned_dt\n",
        "}\n",
        "\n",
        "tuned_evaluation_df = pd.DataFrame(tuned_models_evaluation).T\n",
        "print(\"\\nComparison of Tuned Models on Validation Set:\")\n",
        "display(tuned_evaluation_df.sort_values(by='R²', ascending=False))"
      ]
    },
    {
      "cell_type": "code",
      "execution_count": 41,
      "metadata": {
        "colab": {
          "base_uri": "https://localhost:8080/"
        },
        "id": "VwJPGtsDPvof",
        "outputId": "bfb69560-49c2-438b-d50f-14a03d9224f7"
      },
      "outputs": [
        {
          "name": "stdout",
          "output_type": "stream",
          "text": [
            "\n",
            "Final Evaluation Results on Test Set (Best Tuned Decision Tree Pipeline):\n",
            "Mean Absolute Error (MAE): 15262.30\n",
            "Mean Squared Error (MSE): 676769070.34\n",
            "Root Mean Squared Error (RMSE): 26014.79\n",
            "R-squared (R²): 0.8432\n"
          ]
        }
      ],
      "source": [
        "y_pred_test = best_pipeline_dt.predict(X_test)\n",
        "\n",
        "mae_test = mean_absolute_error(y_test, y_pred_test)\n",
        "mse_test = mean_squared_error(y_test, y_pred_test)\n",
        "rmse_test = np.sqrt(mse_test)\n",
        "r2_test = r2_score(y_test, y_pred_test)\n",
        "\n",
        "print(\"\\nFinal Evaluation Results on Test Set (Best Tuned Decision Tree Pipeline):\")\n",
        "print(f\"Mean Absolute Error (MAE): {mae_test:.2f}\")\n",
        "print(f\"Mean Squared Error (MSE): {mse_test:.2f}\")\n",
        "print(f\"Root Mean Squared Error (RMSE): {rmse_test:.2f}\")\n",
        "print(f\"R-squared (R²): {r2_test:.4f}\")"
      ]
    },
    {
      "cell_type": "code",
      "execution_count": 42,
      "metadata": {
        "colab": {
          "base_uri": "https://localhost:8080/",
          "height": 564
        },
        "id": "HPg5H_wAQ9iq",
        "outputId": "9f4a8cc0-2ecf-4a37-f0da-e578e7efb836"
      },
      "outputs": [
        {
          "data": {
            "image/png": "[encoded data removed]",
            "text/plain": [
              "<Figure size 1000x600 with 1 Axes>"
            ]
          },
          "metadata": {},
          "output_type": "display_data"
        }
      ],
      "source": [
        "plt.figure(figsize=(10, 6))\n",
        "sns.scatterplot(x=y_test, y=y_pred_test, alpha=0.5)\n",
        "plt.plot([y_test.min(), y_test.max()], [y_test.min(), y_test.max()], 'k--', lw=2)\n",
        "plt.title('Actual vs. Predicted Prices on Test Set with Ideal Prediction Line')\n",
        "plt.xlabel('Actual Price')\n",
        "plt.ylabel('Predicted Price')\n",
        "plt.grid(True)\n",
        "plt.show()"
      ]
    },
    {
      "cell_type": "code",
      "execution_count": 43,
      "metadata": {
        "colab": {
          "base_uri": "https://localhost:8080/"
        },
        "id": "20v0Bh9wRkgW",
        "outputId": "f2fbfb10-5f60-4906-e7c7-0947efffb3db"
      },
      "outputs": [
        {
          "data": {
            "text/plain": [
              "['../models/model.pkl']"
            ]
          },
          "execution_count": 43,
          "metadata": {},
          "output_type": "execute_result"
        }
      ],
      "source": [
        "model_filename = '../models/model.pkl'\n",
        "\n",
        "dump(best_pipeline_dt, model_filename)"
      ]
    }
  ],
  "metadata": {
    "colab": {
      "provenance": []
    },
    "kernelspec": {
      "display_name": "venv",
      "language": "python",
      "name": "python3"
    },
    "language_info": {
      "codemirror_mode": {
        "name": "ipython",
        "version": 3
      },
      "file_extension": ".py",
      "mimetype": "text/x-python",
      "name": "python",
      "nbconvert_exporter": "python",
      "pygments_lexer": "ipython3",
      "version": "3.12.3"
    }
  },
  "nbformat": 4,
  "nbformat_minor": 0
}
